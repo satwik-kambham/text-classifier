{
 "cells": [
  {
   "cell_type": "code",
   "execution_count": 1,
   "metadata": {},
   "outputs": [],
   "source": [
    "import matplotlib.pyplot as plt\n",
    "import torch\n",
    "from tokenizers import Tokenizer\n",
    "\n",
    "from model.lstm_with_attention import LSTMWithAttentionClassifier"
   ]
  },
  {
   "cell_type": "code",
   "execution_count": 2,
   "metadata": {},
   "outputs": [],
   "source": [
    "COARSE_LABELS = [\n",
    "    \"ABBR (0): Abbreviation\",\n",
    "    \"ENTY (1): Entity\",\n",
    "    \"DESC (2): Description and abstract concept\",\n",
    "    \"HUM (3): Human being\",\n",
    "    \"LOC (4): Location\",\n",
    "    \"NUM (5): Numeric value\",\n",
    "]\n",
    "\n",
    "FINE_LABELS = [\n",
    "    \"ABBR (0): Abbreviation\",\n",
    "    \"ABBR (1): Expression abbreviated\",\n",
    "    \"ENTY (2): Animal\",\n",
    "    \"ENTY (3): Organ of body\",\n",
    "    \"ENTY (4): Color\",\n",
    "    \"ENTY (5): Invention, book and other creative piece\",\n",
    "    \"ENTY (6): Currency name\",\n",
    "    \"ENTY (7): Disease and medicine\",\n",
    "    \"ENTY (8): Event\",\n",
    "    \"ENTY (9): Food\",\n",
    "    \"ENTY (10): Musical instrument\",\n",
    "    \"ENTY (11): Language\",\n",
    "    \"ENTY (12): Letter like a-z\",\n",
    "    \"ENTY (13): Other entity\",\n",
    "    \"ENTY (14): Plant\",\n",
    "    \"ENTY (15): Product\",\n",
    "    \"ENTY (16): Religion\",\n",
    "    \"ENTY (17): Sport\",\n",
    "    \"ENTY (18): Element and substance\",\n",
    "    \"ENTY (19): Symbols and sign\",\n",
    "    \"ENTY (20): Techniques and method\",\n",
    "    \"ENTY (21): Equivalent term\",\n",
    "    \"ENTY (22): Vehicle\",\n",
    "    \"ENTY (23): Word with a special property\",\n",
    "    \"DESC (24): Definition of something\",\n",
    "    \"DESC (25): Description of something\",\n",
    "    \"DESC (26): Manner of an action\",\n",
    "    \"DESC (27): Reason\",\n",
    "    \"HUM (28): Group or organization of persons\",\n",
    "    \"HUM (29): Individual\",\n",
    "    \"HUM (30): Title of a person\",\n",
    "    \"HUM (31): Description of a person\",\n",
    "    \"LOC (32): City\",\n",
    "    \"LOC (33): Country\",\n",
    "    \"LOC (34): Mountain\",\n",
    "    \"LOC (35): Other location\",\n",
    "    \"LOC (36): State\",\n",
    "    \"NUM (37): Postcode or other code\",\n",
    "    \"NUM (38): Number of something\",\n",
    "    \"NUM (39): Date\",\n",
    "    \"NUM (40): Distance, linear measure\",\n",
    "    \"NUM (41): Price\",\n",
    "    \"NUM (42): Order, rank\",\n",
    "    \"NUM (43): Other number\",\n",
    "    \"NUM (44): Lasting time of something\",\n",
    "    \"NUM (45): Percent, fraction\",\n",
    "    \"NUM (46): Speed\",\n",
    "    \"NUM (47): Temperature\",\n",
    "    \"NUM (48): Size, area and volume\",\n",
    "    \"NUM (49): Weight\",\n",
    "]"
   ]
  },
  {
   "cell_type": "code",
   "execution_count": 3,
   "metadata": {},
   "outputs": [],
   "source": [
    "TOKENIZER_PATH = \"./data/trec/tokenizer.json\"\n",
    "MODEL_PATH = \"../lightning_logs/version_15/checkpoints/epoch=9-step=1710.ckpt\""
   ]
  },
  {
   "cell_type": "code",
   "execution_count": 4,
   "metadata": {},
   "outputs": [
    {
     "data": {
      "text/plain": [
       "LSTMWithAttentionClassifier(\n",
       "  (embedding): Embedding(15194, 256, padding_idx=3)\n",
       "  (lstm): LSTM(256, 128, num_layers=2, batch_first=True, dropout=0.01, bidirectional=True)\n",
       "  (attention): Attention(\n",
       "    (WQuery): Linear(in_features=256, out_features=256, bias=True)\n",
       "    (WKey): Linear(in_features=256, out_features=256, bias=True)\n",
       "    (WValue): Linear(in_features=256, out_features=1, bias=True)\n",
       "  )\n",
       "  (fc): Linear(in_features=256, out_features=50, bias=True)\n",
       "  (criteria): CrossEntropyLoss()\n",
       "  (accuracy): MulticlassAccuracy()\n",
       ")"
      ]
     },
     "execution_count": 4,
     "metadata": {},
     "output_type": "execute_result"
    }
   ],
   "source": [
    "tokenizer = Tokenizer.from_file(TOKENIZER_PATH)\n",
    "model = LSTMWithAttentionClassifier.load_from_checkpoint(MODEL_PATH)\n",
    "model.eval()"
   ]
  },
  {
   "cell_type": "code",
   "execution_count": 5,
   "metadata": {
    "notebookRunGroups": {
     "groupValue": "1"
    }
   },
   "outputs": [],
   "source": [
    "text = \"Historical events that led to the Industrial Revolution?\"\n",
    "encoding = tokenizer.encode(text)\n",
    "ids = torch.tensor([encoding.ids])\n",
    "logits, attention_weights = model(ids)\n",
    "label = logits.argmax(dim=1).item()"
   ]
  },
  {
   "cell_type": "code",
   "execution_count": 6,
   "metadata": {
    "notebookRunGroups": {
     "groupValue": "1"
    }
   },
   "outputs": [
    {
     "data": {
      "text/plain": [
       "['Historical',\n",
       " 'events',\n",
       " 'that',\n",
       " 'led',\n",
       " 'to',\n",
       " 'the',\n",
       " 'Industrial',\n",
       " 'Revolution',\n",
       " '?']"
      ]
     },
     "execution_count": 6,
     "metadata": {},
     "output_type": "execute_result"
    }
   ],
   "source": [
    "encoding.tokens"
   ]
  },
  {
   "cell_type": "code",
   "execution_count": 7,
   "metadata": {
    "notebookRunGroups": {
     "groupValue": "1"
    }
   },
   "outputs": [
    {
     "data": {
      "text/plain": [
       "(5, 'ENTY (5): Invention, book and other creative piece')"
      ]
     },
     "execution_count": 7,
     "metadata": {},
     "output_type": "execute_result"
    }
   ],
   "source": [
    "label, FINE_LABELS[label] if model.fine else COARSE_LABELS[label]"
   ]
  },
  {
   "cell_type": "code",
   "execution_count": 8,
   "metadata": {
    "notebookRunGroups": {
     "groupValue": "1"
    }
   },
   "outputs": [
    {
     "data": {
      "text/plain": [
       "array([8.5789308e-02, 9.1383183e-01, 3.6279188e-04, 1.6167265e-05,\n",
       "       2.8391932e-08, 2.0666244e-14, 4.3595913e-18, 8.7042736e-20,\n",
       "       2.8987194e-21], dtype=float32)"
      ]
     },
     "execution_count": 8,
     "metadata": {},
     "output_type": "execute_result"
    }
   ],
   "source": [
    "attention_weights = attention_weights.squeeze().detach().numpy()\n",
    "attention_weights"
   ]
  },
  {
   "cell_type": "code",
   "execution_count": 9,
   "metadata": {
    "notebookRunGroups": {
     "groupValue": "1"
    }
   },
   "outputs": [
    {
     "data": {
      "text/plain": [
       "<matplotlib.colorbar.Colorbar at 0x7ff55cd49c00>"
      ]
     },
     "execution_count": 9,
     "metadata": {},
     "output_type": "execute_result"
    },
    {
     "data": {
      "image/png": "[encoded data removed]",
      "text/plain": [
       "<Figure size 640x480 with 2 Axes>"
      ]
     },
     "metadata": {},
     "output_type": "display_data"
    }
   ],
   "source": [
    "fig, ax = plt.subplots()\n",
    "im = ax.imshow(attention_weights.reshape(1, -1), aspect=\"auto\")\n",
    "ax.set_xticks(range(len(encoding.tokens)))\n",
    "ax.set_xticklabels(encoding.tokens, rotation=90)\n",
    "ax.set_yticks([])\n",
    "ax.set_title(\"Attention weights\")\n",
    "fig.colorbar(im, ax=ax)"
   ]
  }
 ],
 "metadata": {
  "kernelspec": {
   "display_name": "nlp",
   "language": "python",
   "name": "python3"
  },
  "language_info": {
   "codemirror_mode": {
    "name": "ipython",
    "version": 3
   },
   "file_extension": ".py",
   "mimetype": "text/x-python",
   "name": "python",
   "nbconvert_exporter": "python",
   "pygments_lexer": "ipython3",
   "version": "3.10.13"
  }
 },
 "nbformat": 4,
 "nbformat_minor": 2
}
